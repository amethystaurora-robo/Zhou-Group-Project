{
 "cells": [
  {
   "cell_type": "code",
   "execution_count": 1,
   "id": "baa81b52-cdac-4f71-8620-7b5e1dfa2371",
   "metadata": {},
   "outputs": [],
   "source": [
    "import seaborn as sns\n",
    "import pandas as pd\n",
    "import numpy as np"
   ]
  },
  {
   "cell_type": "code",
   "execution_count": 18,
   "id": "2a9f26a3-1f83-4481-9ced-f63daf5e974a",
   "metadata": {},
   "outputs": [],
   "source": [
    "LCMS_GCMS = pd.read_csv('with_uses.csv')\n",
    "lat_long_LCMS = pd.read_csv('lat_long_allchems.csv')"
   ]
  },
  {
   "cell_type": "code",
   "execution_count": 19,
   "id": "4a70af4a-1ffb-4245-91e3-fbc238173f87",
   "metadata": {},
   "outputs": [],
   "source": [
    "LCMS_GCMS_coords = LCMS_GCMS[['SMPT_EASTING','SMPT_NORTHING']]\n",
    "LCMS_GCMS_coords.to_csv('easting_northing_allchems.csv',index=False)"
   ]
  },
  {
   "cell_type": "code",
   "execution_count": 20,
   "id": "722e1f2f-5cd8-4b9a-9558-84d3f1487ded",
   "metadata": {},
   "outputs": [],
   "source": [
    "lat_list = lat_long_LCMS['LAT'].tolist()\n",
    "long_list = lat_long_LCMS['LONG'].tolist()\n",
    "LCMS_GCMS['LAT'] = lat_list\n",
    "LCMS_GCMS['LONG'] = long_list"
   ]
  },
  {
   "cell_type": "code",
   "execution_count": 21,
   "id": "7414edaa-dc76-4d65-bfa9-d5aa6c865d15",
   "metadata": {},
   "outputs": [
    {
     "name": "stdout",
     "output_type": "stream",
     "text": [
      "Unnamed: 0\n",
      "Sample_Site_ID\n",
      "MEAS_DETERMINAND_CODE\n",
      "SAMP_ID\n",
      "Screening_Method_Details_Code\n",
      "SAMP_MATERIAL\n",
      "SMC_DESC\n",
      "SAMP_PURPOSE_CODE\n",
      "PURP_DESC\n",
      "Sample_datetime\n",
      "SMPT_LONG_NAME\n",
      "SMPT_TYPE\n",
      "SPT_DESC\n",
      "SMPT_EASTING\n",
      "SMPT_NORTHING\n",
      "ARE_CODE\n",
      "ARE_DESC\n",
      "SMPT_Generic_TYPE\n",
      "Screening_Method_Details\n",
      "Concentration\n",
      "unit\n",
      "less_than\n",
      "CAS_Number\n",
      "Compound_Name\n",
      "LOD\n",
      "USE\n",
      "method\n",
      "year\n",
      "month_and_year\n",
      "Usages\n",
      "LAT\n",
      "LONG\n"
     ]
    }
   ],
   "source": [
    "for col in LCMS_GCMS.columns:\n",
    "    print(col)"
   ]
  },
  {
   "cell_type": "code",
   "execution_count": 22,
   "id": "7467acc8-47c3-4a34-9f10-a5c8c2295240",
   "metadata": {},
   "outputs": [
    {
     "name": "stdout",
     "output_type": "stream",
     "text": [
      "['NORTH EAST - YORKSHIRE' 'MIDLANDS - SHROPS HEREF WORCS AND GLOS'\n",
      " 'ANGLIAN - LINCS AND NORTHANTS' 'ANGLIAN - ESSEX NORFOLK AND SUFFOLK'\n",
      " 'SOUTHERN - SOLENT AND SOUTH DOWNS' 'MIDLANDS - DERBYS NOTTS AND LEICS'\n",
      " 'NORTH WEST - CUMBRIA AND LANCASHIRE' 'ANGLIAN - CAMBS AND BEDFORDSHIRE'\n",
      " 'SOUTHERN - KENT AND SOUTH LONDON' 'THAMES - KENT AND SOUTH LONDON'\n",
      " 'NORTH EAST - NORTHUMBERLAND DURHAM AND TEES'\n",
      " 'THAMES - HERTS AND NORTH LONDON' 'MIDLANDS - STAFFS WARKS AND WEST MIDS'\n",
      " 'THAMES - WEST THAMES' 'NORTH WEST - GTR MANCS MERSEY AND CHES'\n",
      " 'SOUTH WEST - WESSEX' 'SOUTH WEST - DEVON AND CORNWALL' 'Regional']\n"
     ]
    }
   ],
   "source": [
    "print(LCMS_GCMS['ARE_DESC'].unique())"
   ]
  },
  {
   "cell_type": "code",
   "execution_count": 23,
   "id": "7ca983d5-a135-4959-8747-c4b2a6759078",
   "metadata": {},
   "outputs": [],
   "source": [
    "LCMS_GCMS.to_csv('LCMS_GCMS_allchems.csv')"
   ]
  }
 ],
 "metadata": {
  "kernelspec": {
   "display_name": "Python 3 (ipykernel)",
   "language": "python",
   "name": "python3"
  },
  "language_info": {
   "codemirror_mode": {
    "name": "ipython",
    "version": 3
   },
   "file_extension": ".py",
   "mimetype": "text/x-python",
   "name": "python",
   "nbconvert_exporter": "python",
   "pygments_lexer": "ipython3",
   "version": "3.9.13"
  }
 },
 "nbformat": 4,
 "nbformat_minor": 5
}
